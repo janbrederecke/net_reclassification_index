{
 "cells": [
  {
   "cell_type": "code",
   "execution_count": 1,
   "metadata": {},
   "outputs": [],
   "source": [
    "import pandas as pd\n",
    "import numpy as np\n",
    "from net_reclassification_index import nri_surv"
   ]
  },
  {
   "cell_type": "code",
   "execution_count": 2,
   "metadata": {},
   "outputs": [],
   "source": [
    "data = pd.read_csv(\"./data/data.csv\")\n",
    "data = data.loc[:, [\"status\", \"time\", \"pred_base\", \"pred_big\"]]\n",
    "data.insert(4, \"pred_big2\", data.pred_big * 1.1)"
   ]
  },
  {
   "cell_type": "code",
   "execution_count": 3,
   "metadata": {},
   "outputs": [],
   "source": [
    "preds = [\"pred_base\", \"pred_big\", \"pred_big2\"]\n",
    "fu_time = \"time\"\n",
    "status = \"status\"\n",
    "time_span = 600\n",
    "bootstraps = 50\n",
    "risklimits_nri_score = [0.9]"
   ]
  },
  {
   "cell_type": "code",
   "execution_count": 4,
   "metadata": {},
   "outputs": [
    {
     "data": {
      "text/html": [
       "<div>\n",
       "<style scoped>\n",
       "    .dataframe tbody tr th:only-of-type {\n",
       "        vertical-align: middle;\n",
       "    }\n",
       "\n",
       "    .dataframe tbody tr th {\n",
       "        vertical-align: top;\n",
       "    }\n",
       "\n",
       "    .dataframe thead th {\n",
       "        text-align: right;\n",
       "    }\n",
       "</style>\n",
       "<table border=\"1\" class=\"dataframe\">\n",
       "  <thead>\n",
       "    <tr style=\"text-align: right;\">\n",
       "      <th></th>\n",
       "      <th>nri</th>\n",
       "      <th>nri_left</th>\n",
       "      <th>nri_right</th>\n",
       "      <th>nri_ev</th>\n",
       "      <th>nri_ev_left</th>\n",
       "      <th>nri_ev_right</th>\n",
       "      <th>nri_nev</th>\n",
       "      <th>nri_nev_left</th>\n",
       "      <th>nri_nev_right</th>\n",
       "      <th>n</th>\n",
       "      <th>n_event</th>\n",
       "    </tr>\n",
       "  </thead>\n",
       "  <tbody>\n",
       "    <tr>\n",
       "      <th>0</th>\n",
       "      <td>-0.042843</td>\n",
       "      <td>-0.094189</td>\n",
       "      <td>0.008502</td>\n",
       "      <td>-0.022309</td>\n",
       "      <td>-0.051242</td>\n",
       "      <td>0.006625</td>\n",
       "      <td>-0.020535</td>\n",
       "      <td>-0.065990</td>\n",
       "      <td>0.024921</td>\n",
       "      <td>228</td>\n",
       "      <td>148</td>\n",
       "    </tr>\n",
       "    <tr>\n",
       "      <th>1</th>\n",
       "      <td>0.126712</td>\n",
       "      <td>0.031940</td>\n",
       "      <td>0.221483</td>\n",
       "      <td>0.198117</td>\n",
       "      <td>0.143321</td>\n",
       "      <td>0.252912</td>\n",
       "      <td>-0.071405</td>\n",
       "      <td>-0.138079</td>\n",
       "      <td>-0.004731</td>\n",
       "      <td>228</td>\n",
       "      <td>148</td>\n",
       "    </tr>\n",
       "  </tbody>\n",
       "</table>\n",
       "</div>"
      ],
      "text/plain": [
       "        nri  nri_left  nri_right  ...  nri_nev_right    n  n_event\n",
       "0 -0.042843 -0.094189   0.008502  ...       0.024921  228      148\n",
       "1  0.126712  0.031940   0.221483  ...      -0.004731  228      148\n",
       "\n",
       "[2 rows x 11 columns]"
      ]
     },
     "execution_count": 4,
     "metadata": {},
     "output_type": "execute_result"
    }
   ],
   "source": [
    "nri_surv(\n",
    "    predictors=preds,\n",
    "    data=data,\n",
    "    risk_limits=risklimits_nri_score,\n",
    "    fu_time=fu_time,\n",
    "    status=status,\n",
    "    time=time_span,\n",
    "    n_boot=bootstraps,\n",
    ")"
   ]
  }
 ],
 "metadata": {
  "kernelspec": {
   "display_name": "datascience",
   "language": "python",
   "name": "python3"
  },
  "language_info": {
   "codemirror_mode": {
    "name": "ipython",
    "version": 3
   },
   "file_extension": ".py",
   "mimetype": "text/x-python",
   "name": "python",
   "nbconvert_exporter": "python",
   "pygments_lexer": "ipython3",
   "version": "3.8.17"
  },
  "orig_nbformat": 4
 },
 "nbformat": 4,
 "nbformat_minor": 2
}
